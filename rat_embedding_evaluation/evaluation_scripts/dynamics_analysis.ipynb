{
 "cells": [
  {
   "cell_type": "code",
   "id": "initial_id",
   "metadata": {
    "collapsed": true,
    "ExecuteTime": {
     "end_time": "2024-08-13T14:56:17.577041Z",
     "start_time": "2024-08-13T14:56:17.552320Z"
    }
   },
   "source": [
    "import numpy as np\n",
    "import ncmcm\n",
    "import os \n",
    "from tqdm import tqdm\n",
    "import tensorflow as tf\n",
    "os.getcwd()"
   ],
   "outputs": [
    {
     "data": {
      "text/plain": [
       "'/home/akshey/Desktop/PhD/Code_repositories/comparison-algorithms/rat_embedding_evaluation/evaluation_scripts'"
      ]
     },
     "execution_count": 9,
     "metadata": {},
     "output_type": "execute_result"
    }
   ],
   "execution_count": 9
  },
  {
   "metadata": {
    "ExecuteTime": {
     "end_time": "2024-08-13T14:56:19.957609Z",
     "start_time": "2024-08-13T14:56:19.909023Z"
    }
   },
   "cell_type": "code",
   "source": [
    "algorithm = 'BunDLeNet'\n",
    "rat_name = 'gatsby'\n",
    "\n",
    "file_pattern = f'../../data/generated/saved_Y/{{}}__{algorithm}_rat_{rat_name}'\n",
    "y0_tr = np.loadtxt(file_pattern.format('y0_tr'))\n",
    "y1_tr = np.loadtxt(file_pattern.format('y1_tr'))\n",
    "y0_tst = np.loadtxt(file_pattern.format('y0_tst'))\n",
    "y1_tst = np.loadtxt(file_pattern.format('y1_tst'))\n",
    "b_train_1 = np.loadtxt(file_pattern.format('b_train_1'))\n",
    "b_test_1 = np.loadtxt(file_pattern.format('b_test_1'))\n",
    "\n",
    "y0_tr = y0_tr.reshape(y0_tr.shape[0],-1)\n",
    "y1_tr = y1_tr.reshape(y1_tr.shape[0],-1)\n",
    "y0_tst = y0_tst.reshape(y0_tst.shape[0],-1)\n",
    "y1_tst = y1_tst.reshape(y1_tst.shape[0],-1)\n",
    "Ydiff_tr = y1_tr - y0_tr\n",
    "Ydiff_tst = y1_tst - y0_tst"
   ],
   "id": "54937fee8fe498a5",
   "outputs": [],
   "execution_count": 10
  },
  {
   "metadata": {
    "ExecuteTime": {
     "end_time": "2024-08-13T14:56:21.412751Z",
     "start_time": "2024-08-13T14:56:21.337412Z"
    }
   },
   "cell_type": "code",
   "source": [
    "### Dynamics predictability evaluation\n",
    "mse_list = []\n",
    "for i in tqdm(np.arange(10)):\n",
    "\t### Scaling input and output data\n",
    "\tyinmax = (np.abs(y0_tr)).max() # Parameters for scaling\n",
    "\ty0_tr, y0_tst = y0_tr/yinmax, y0_tst/yinmax\n",
    "\tydmax = (np.abs(ydiff_tr)).max() # Parameters for scaling\n",
    "\tydiff_tr, ydiff_tst = ydiff_tr/ydmax, ydiff_tst/ydmax\n",
    "\n",
    "\t# Defining the model\n",
    "\tmodel_ydiff_f_yt = tf.keras.Sequential([\n",
    "\t\ttf.keras.layers.Dense(3, activation='linear')])\n",
    "\topt = tf.keras.optimizers.Adam(learning_rate=0.01)\n",
    "\tmodel_ydiff_f_yt.compile(optimizer=opt,\n",
    "\t\t\t\t  loss='mse',\n",
    "\t\t\t\t  metrics=['mse'])\n",
    "\n",
    "\thistory = model_ydiff_f_yt.fit(y0_tr,\n",
    "\t\t\t\t\t\t  ydiff_tr,\n",
    "\t\t\t\t\t\t  epochs=50,\n",
    "\t\t\t\t\t\t  batch_size=1000,\n",
    "\t\t\t\t\t\t  validation_data=(y0_tst, ydiff_tst),\n",
    "\t\t\t\t\t\t  verbose=0\n",
    "\t\t\t\t\t\t  )\n",
    "\n",
    "\t# Predictions\n",
    "\tydiff_tr_pred = model_ydiff_f_yt(y0_tr).numpy()\n",
    "\tydiff_tst_pred = model_ydiff_f_yt(y0_tst).numpy()\n",
    "\n",
    "\t# Inverse scaling the data\n",
    "\tydiff_tr_pred, ydiff_tr, y0_tr = ydiff_tr_pred*ydmax, ydiff_tr*ydmax, y0_tr*yinmax\n",
    "\tydiff_tst_pred, ydiff_tst, y0_tst = ydiff_tst_pred*ydmax, ydiff_tst*ydmax, y0_tst*yinmax\n",
    "\n",
    "\ty1_tr_pred = y0_tr + ydiff_tr_pred\n",
    "\ty1_tst_pred = y0_tst + ydiff_tst_pred\n",
    "\n",
    "\t# Evaluation\n",
    "\tbaseline_tr  = mean_squared_error(flat_partial(y1_tr), flat_partial(y0_tr))\n",
    "\tmodelmse_tr = mean_squared_error(flat_partial(y1_tr), flat_partial(y1_tr_pred))\n",
    "\tbaseline_tst  = mean_squared_error(flat_partial(y1_tst), flat_partial(y0_tst))\n",
    "\tmodelmse_tst = mean_squared_error(flat_partial(y1_tst), flat_partial(y1_tst_pred))\n",
    "\tprint(baseline_tr)\n",
    "\tprint(modelmse_tr)\n",
    "\tprint(baseline_tst)\n",
    "\tprint(modelmse_tst)\n",
    "\n",
    "\n",
    "\tmse_list.append([baseline_tr, modelmse_tr, baseline_tst, modelmse_tst])\n"
   ],
   "id": "3dc1e991e61d3dcb",
   "outputs": [
    {
     "name": "stderr",
     "output_type": "stream",
     "text": [
      "  0%|          | 0/10 [00:00<?, ?it/s]\n"
     ]
    },
    {
     "ename": "NameError",
     "evalue": "name 'tf' is not defined",
     "output_type": "error",
     "traceback": [
      "\u001B[0;31m---------------------------------------------------------------------------\u001B[0m",
      "\u001B[0;31mNameError\u001B[0m                                 Traceback (most recent call last)",
      "Cell \u001B[0;32mIn[11], line 11\u001B[0m\n\u001B[1;32m      8\u001B[0m Ydiff_tr, Ydiff_tst \u001B[38;5;241m=\u001B[39m Ydiff_tr\u001B[38;5;241m/\u001B[39mYdmax, Ydiff_tst\u001B[38;5;241m/\u001B[39mYdmax\n\u001B[1;32m     10\u001B[0m \u001B[38;5;66;03m# Defining the model\u001B[39;00m\n\u001B[0;32m---> 11\u001B[0m model_ydiff_f_yt \u001B[38;5;241m=\u001B[39m \u001B[43mtf\u001B[49m\u001B[38;5;241m.\u001B[39mkeras\u001B[38;5;241m.\u001B[39mSequential([\n\u001B[1;32m     12\u001B[0m \ttf\u001B[38;5;241m.\u001B[39mkeras\u001B[38;5;241m.\u001B[39mlayers\u001B[38;5;241m.\u001B[39mDense(\u001B[38;5;241m3\u001B[39m, activation\u001B[38;5;241m=\u001B[39m\u001B[38;5;124m'\u001B[39m\u001B[38;5;124mlinear\u001B[39m\u001B[38;5;124m'\u001B[39m)])\n\u001B[1;32m     13\u001B[0m opt \u001B[38;5;241m=\u001B[39m tf\u001B[38;5;241m.\u001B[39mkeras\u001B[38;5;241m.\u001B[39moptimizers\u001B[38;5;241m.\u001B[39mlegacy\u001B[38;5;241m.\u001B[39mAdam(learning_rate\u001B[38;5;241m=\u001B[39m\u001B[38;5;241m0.01\u001B[39m)\n\u001B[1;32m     14\u001B[0m model_ydiff_f_yt\u001B[38;5;241m.\u001B[39mcompile(optimizer\u001B[38;5;241m=\u001B[39mopt,\n\u001B[1;32m     15\u001B[0m \t\t\t  loss\u001B[38;5;241m=\u001B[39m\u001B[38;5;124m'\u001B[39m\u001B[38;5;124mmse\u001B[39m\u001B[38;5;124m'\u001B[39m,\n\u001B[1;32m     16\u001B[0m \t\t\t  metrics\u001B[38;5;241m=\u001B[39m[\u001B[38;5;124m'\u001B[39m\u001B[38;5;124mmse\u001B[39m\u001B[38;5;124m'\u001B[39m])\n",
      "\u001B[0;31mNameError\u001B[0m: name 'tf' is not defined"
     ]
    }
   ],
   "execution_count": 11
  },
  {
   "metadata": {},
   "cell_type": "code",
   "outputs": [],
   "execution_count": null,
   "source": [
    "\n",
    "# Saving the metrics\n",
    "mse_list = np.array(mse_list)\n",
    "np.savetxt('../data/generated/evaluation_metrics/mse_list_' + algorithm + '_rat_' +  str(rat_name), mse_list)\n"
   ],
   "id": "dc66a5d783cd9455"
  }
 ],
 "metadata": {
  "kernelspec": {
   "display_name": "bundle_env",
   "language": "python",
   "name": "bundle_env"
  },
  "language_info": {
   "codemirror_mode": {
    "name": "ipython",
    "version": 2
   },
   "file_extension": ".py",
   "mimetype": "text/x-python",
   "name": "python",
   "nbconvert_exporter": "python",
   "pygments_lexer": "ipython2",
   "version": "2.7.6"
  }
 },
 "nbformat": 4,
 "nbformat_minor": 5
}

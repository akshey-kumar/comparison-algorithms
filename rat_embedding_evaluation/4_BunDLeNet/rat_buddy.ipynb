{
 "cells": [
  {
   "cell_type": "code",
   "execution_count": 1,
   "id": "2b7c77d9",
   "metadata": {},
   "outputs": [
    {
     "name": "stderr",
     "output_type": "stream",
     "text": [
      "2024-09-10 17:35:13.242008: E external/local_xla/xla/stream_executor/cuda/cuda_dnn.cc:9261] Unable to register cuDNN factory: Attempting to register factory for plugin cuDNN when one has already been registered\n",
      "2024-09-10 17:35:13.242027: E external/local_xla/xla/stream_executor/cuda/cuda_fft.cc:607] Unable to register cuFFT factory: Attempting to register factory for plugin cuFFT when one has already been registered\n",
      "2024-09-10 17:35:13.242843: E external/local_xla/xla/stream_executor/cuda/cuda_blas.cc:1515] Unable to register cuBLAS factory: Attempting to register factory for plugin cuBLAS when one has already been registered\n",
      "2024-09-10 17:35:13.247571: I tensorflow/core/platform/cpu_feature_guard.cc:182] This TensorFlow binary is optimized to use available CPU instructions in performance-critical operations.\n",
      "To enable the following instructions: AVX2 FMA, in other operations, rebuild TensorFlow with the appropriate compiler flags.\n",
      "2024-09-10 17:35:13.974577: W tensorflow/compiler/tf2tensorrt/utils/py_utils.cc:38] TF-TRT Warning: Could not find TensorRT\n",
      "/home/akshey/Desktop/PhD/Code_repositories/comparison-algorithms/bundle_env/lib/python3.10/site-packages/tqdm/auto.py:21: TqdmWarning: IProgress not found. Please update jupyter and ipywidgets. See https://ipywidgets.readthedocs.io/en/stable/user_install.html\n",
      "  from .autonotebook import tqdm as notebook_tqdm\n",
      "2024-09-10 17:35:15,284\tINFO util.py:154 -- Missing packages: ['ipywidgets']. Run `pip install -U ipywidgets`, then restart the notebook server for rich notebook output.\n",
      "2024-09-10 17:35:15,352\tINFO util.py:154 -- Missing packages: ['ipywidgets']. Run `pip install -U ipywidgets`, then restart the notebook server for rich notebook output.\n"
     ]
    }
   ],
   "source": [
    "import sys\n",
    "import numpy as np\n",
    "import matplotlib.pyplot as plt\n",
    "from ncmcm.bundlenet.bundlenet import BunDLeNet, train_model\n",
    "from ncmcm.bundlenet.utils import prep_data, timeseries_train_test_split\n",
    "from ncmcm.visualisers.latent_space import LatentSpaceVisualiser\n",
    "from ray import tune, train\n",
    "from ray.tune.schedulers import ASHAScheduler\n",
    "from ray.tune.search.bayesopt import BayesOptSearch"
   ]
  },
  {
   "cell_type": "code",
   "execution_count": 2,
   "id": "a69264a1",
   "metadata": {},
   "outputs": [],
   "source": [
    "algorithm = 'BunDLeNet'\n",
    "rat_name = 'buddy'# ['achilles', 'gatsby','cicero', 'buddy']\n",
    "data = np.load(f'../../data/raw/rat_hippocampus/{rat_name}.npz')\n",
    "x, b = data['x'], data['b']\n",
    "x = x - np.min(x)\n"
   ]
  },
  {
   "cell_type": "code",
   "execution_count": 11,
   "id": "08e00d1d",
   "metadata": {},
   "outputs": [],
   "source": [
    "def train_bundlenet(config):    \n",
    "    # Extract hyperparameters from the config dictionary\n",
    "    learning_rate = config[\"learning_rate\"]\n",
    "    latent_dim = int(config[\"latent_dim\"])\n",
    "    n_epochs = int(config[\"n_epochs\"])\n",
    "    win = int(config[\"win\"])\n",
    "    \n",
    "    x_, b_ = prep_data(x, b, win=20)\n",
    "\n",
    "    x_train, x_test, b_train_1, b_test_1 = timeseries_train_test_split(x_, b_)\n",
    "\n",
    "    model = BunDLeNet(latent_dim=latent_dim, num_behaviour=b_train_1.shape[1])\n",
    "\n",
    "    train_history, test_history = train_model(\n",
    "        x_train,\n",
    "        b_train_1,\n",
    "        model,\n",
    "        b_type='continuous',\n",
    "        gamma=0.9,\n",
    "        learning_rate=learning_rate,\n",
    "        n_epochs=n_epochs,\n",
    "        initialisation=None, # (5, 20),\n",
    "        validation_data=(x_test, b_test_1),\n",
    "    )\n",
    "\n",
    "    # Report validation loss (or another metric) back to Ray Tune\n",
    "    train.report({\"val_loss\": test_history[-1, -1]})"
   ]
  },
  {
   "cell_type": "code",
   "execution_count": null,
   "id": "ddc99543",
   "metadata": {},
   "outputs": [
    {
     "data": {
      "text/html": [
       "<div class=\"tuneStatus\">\n",
       "  <div style=\"display: flex;flex-direction: row\">\n",
       "    <div style=\"display: flex;flex-direction: column;\">\n",
       "      <h3>Tune Status</h3>\n",
       "      <table>\n",
       "<tbody>\n",
       "<tr><td>Current time:</td><td>2024-09-10 17:43:34</td></tr>\n",
       "<tr><td>Running for: </td><td>00:00:30.51        </td></tr>\n",
       "<tr><td>Memory:      </td><td>24.6/62.7 GiB      </td></tr>\n",
       "</tbody>\n",
       "</table>\n",
       "    </div>\n",
       "    <div class=\"vDivider\"></div>\n",
       "    <div class=\"systemInfo\">\n",
       "      <h3>System Info</h3>\n",
       "      Using AsyncHyperBand: num_stopped=0<br>Bracket: Iter 20.000: None<br>Logical resource usage: 3.0/12 CPUs, 0/1 GPUs (0.0/1.0 accelerator_type:G)\n",
       "    </div>\n",
       "    \n",
       "  </div>\n",
       "  <div class=\"hDivider\"></div>\n",
       "  <div class=\"trialStatus\">\n",
       "    <h3>Trial Status</h3>\n",
       "    <table>\n",
       "<thead>\n",
       "<tr><th>Trial name              </th><th>status    </th><th>loc                   </th><th style=\"text-align: right;\">  latent_dim</th><th style=\"text-align: right;\">  learning_rate</th><th style=\"text-align: right;\">  n_epochs</th><th style=\"text-align: right;\">     win</th><th style=\"text-align: right;\">  iter</th><th style=\"text-align: right;\">  total time (s)</th><th style=\"text-align: right;\">  val_loss</th></tr>\n",
       "</thead>\n",
       "<tbody>\n",
       "<tr><td>train_bundlenet_ecbd3cf4</td><td>RUNNING   </td><td>131.130.118.84:2445758</td><td style=\"text-align: right;\">     5.10463</td><td style=\"text-align: right;\">     0.0785197 </td><td style=\"text-align: right;\">   27.9706</td><td style=\"text-align: right;\">15.9128 </td><td style=\"text-align: right;\">      </td><td style=\"text-align: right;\">                </td><td style=\"text-align: right;\">          </td></tr>\n",
       "<tr><td>train_bundlenet_db49a636</td><td>RUNNING   </td><td>131.130.118.84:2446973</td><td style=\"text-align: right;\">     6.33173</td><td style=\"text-align: right;\">     0.00465458</td><td style=\"text-align: right;\">   64.679 </td><td style=\"text-align: right;\"> 5.9452 </td><td style=\"text-align: right;\">      </td><td style=\"text-align: right;\">                </td><td style=\"text-align: right;\">          </td></tr>\n",
       "<tr><td>train_bundlenet_10e46028</td><td>PENDING   </td><td>                      </td><td style=\"text-align: right;\">     1.58546</td><td style=\"text-align: right;\">     0.0948891 </td><td style=\"text-align: right;\">   96.9069</td><td style=\"text-align: right;\">24.4435 </td><td style=\"text-align: right;\">      </td><td style=\"text-align: right;\">                </td><td style=\"text-align: right;\">          </td></tr>\n",
       "<tr><td>train_bundlenet_e30521a2</td><td>TERMINATED</td><td>131.130.118.84:2441445</td><td style=\"text-align: right;\">     4.37086</td><td style=\"text-align: right;\">     0.0950719 </td><td style=\"text-align: right;\">   75.8795</td><td style=\"text-align: right;\">18.3611 </td><td style=\"text-align: right;\">     1</td><td style=\"text-align: right;\">        11.6654 </td><td style=\"text-align: right;\"> 0.0258546</td></tr>\n",
       "<tr><td>train_bundlenet_e80014b5</td><td>TERMINATED</td><td>131.130.118.84:2441497</td><td style=\"text-align: right;\">     2.40417</td><td style=\"text-align: right;\">     0.0156079 </td><td style=\"text-align: right;\">   15.2275</td><td style=\"text-align: right;\">26.1191 </td><td style=\"text-align: right;\">     1</td><td style=\"text-align: right;\">         4.90891</td><td style=\"text-align: right;\"> 0.0165476</td></tr>\n",
       "<tr><td>train_bundlenet_303a0b85</td><td>TERMINATED</td><td>131.130.118.84:2441875</td><td style=\"text-align: right;\">     6.41004</td><td style=\"text-align: right;\">     0.0708102 </td><td style=\"text-align: right;\">   11.8526</td><td style=\"text-align: right;\">29.1274 </td><td style=\"text-align: right;\">     1</td><td style=\"text-align: right;\">         4.42118</td><td style=\"text-align: right;\"> 0.0256968</td></tr>\n",
       "<tr><td>train_bundlenet_e239430e</td><td>TERMINATED</td><td>131.130.118.84:2443132</td><td style=\"text-align: right;\">     8.49198</td><td style=\"text-align: right;\">     0.0212418 </td><td style=\"text-align: right;\">   26.3642</td><td style=\"text-align: right;\"> 6.31873</td><td style=\"text-align: right;\">     1</td><td style=\"text-align: right;\">         5.15357</td><td style=\"text-align: right;\"> 0.0254079</td></tr>\n",
       "<tr><td>train_bundlenet_9eec4c43</td><td>TERMINATED</td><td>131.130.118.84:2444432</td><td style=\"text-align: right;\">     3.73818</td><td style=\"text-align: right;\">     0.0524804 </td><td style=\"text-align: right;\">   48.8751</td><td style=\"text-align: right;\"> 9.44565</td><td style=\"text-align: right;\">     1</td><td style=\"text-align: right;\">         8.72058</td><td style=\"text-align: right;\"> 0.0258686</td></tr>\n",
       "<tr><td>train_bundlenet_f7045548</td><td>TERMINATED</td><td>131.130.118.84:2444920</td><td style=\"text-align: right;\">     6.50668</td><td style=\"text-align: right;\">     0.013958  </td><td style=\"text-align: right;\">   36.293 </td><td style=\"text-align: right;\">11.6245 </td><td style=\"text-align: right;\">     1</td><td style=\"text-align: right;\">         7.83491</td><td style=\"text-align: right;\"> 0.01033  </td></tr>\n",
       "</tbody>\n",
       "</table>\n",
       "  </div>\n",
       "</div>\n",
       "<style>\n",
       ".tuneStatus {\n",
       "  color: var(--jp-ui-font-color1);\n",
       "}\n",
       ".tuneStatus .systemInfo {\n",
       "  display: flex;\n",
       "  flex-direction: column;\n",
       "}\n",
       ".tuneStatus td {\n",
       "  white-space: nowrap;\n",
       "}\n",
       ".tuneStatus .trialStatus {\n",
       "  display: flex;\n",
       "  flex-direction: column;\n",
       "}\n",
       ".tuneStatus h3 {\n",
       "  font-weight: bold;\n",
       "}\n",
       ".tuneStatus .hDivider {\n",
       "  border-bottom-width: var(--jp-border-width);\n",
       "  border-bottom-color: var(--jp-border-color0);\n",
       "  border-bottom-style: solid;\n",
       "}\n",
       ".tuneStatus .vDivider {\n",
       "  border-left-width: var(--jp-border-width);\n",
       "  border-left-color: var(--jp-border-color0);\n",
       "  border-left-style: solid;\n",
       "  margin: 0.5em 1em 0.5em 1em;\n",
       "}\n",
       "</style>\n"
      ],
      "text/plain": [
       "<IPython.core.display.HTML object>"
      ]
     },
     "metadata": {},
     "output_type": "display_data"
    }
   ],
   "source": [
    "search_space = {\n",
    "    \"win\": tune.uniform(1, 30),\n",
    "    \"learning_rate\": tune.loguniform(1e-5, 1e-1),\n",
    "    \"latent_dim\": tune.uniform(1,10),\n",
    "    \"n_epochs\": tune.uniform(10, 100)\n",
    "}\n",
    "\n",
    "scheduler = ASHAScheduler(metric=\"val_loss\", mode=\"min\", max_t=100, grace_period=20, reduction_factor=20)\n",
    "search_algo = BayesOptSearch(metric=\"val_loss\", mode=\"min\")\n",
    "\n",
    "\n",
    "tuner = tune.Tuner(\n",
    "    tune.with_parameters(train_bundlenet),\n",
    "    tune_config=tune.TuneConfig(\n",
    "        search_alg=search_algo,\n",
    "        num_samples=20,\n",
    "        scheduler=scheduler,\n",
    "    ),\n",
    "    param_space=search_space,\n",
    ")\n",
    "results = tuner.fit()"
   ]
  },
  {
   "cell_type": "code",
   "execution_count": 13,
   "id": "a7b9e067",
   "metadata": {},
   "outputs": [
    {
     "name": "stdout",
     "output_type": "stream",
     "text": [
      "Minimum validation loss: 0.010729284258559346\n",
      "Best hyperparameters found were:  {'win': 11.835971118481748, 'learning_rate': 0.01941082537210491, 'latent_dim': 9.292268072468433, 'n_epochs': 23.171519028764813}\n"
     ]
    }
   ],
   "source": [
    "best_result = results.get_best_result(metric='val_loss', mode='min')\n",
    "print(\"Minimum validation loss:\", best_result.metrics['val_loss'])\n",
    "print(\"Best hyperparameters found were: \", best_result.config)\n"
   ]
  },
  {
   "cell_type": "code",
   "execution_count": null,
   "id": "7a0ccdb9",
   "metadata": {},
   "outputs": [],
   "source": []
  },
  {
   "cell_type": "code",
   "execution_count": 6,
   "id": "1e804a19",
   "metadata": {},
   "outputs": [
    {
     "ename": "NameError",
     "evalue": "name 'b_' is not defined",
     "output_type": "error",
     "traceback": [
      "\u001b[0;31m---------------------------------------------------------------------------\u001b[0m",
      "\u001b[0;31mNameError\u001b[0m                                 Traceback (most recent call last)",
      "Cell \u001b[0;32mIn[6], line 3\u001b[0m\n\u001b[1;32m      1\u001b[0m \u001b[38;5;66;03m# Deploy BunDLe Net\u001b[39;00m\n\u001b[0;32m----> 3\u001b[0m model \u001b[38;5;241m=\u001b[39m BunDLeNet(latent_dim\u001b[38;5;241m=\u001b[39m\u001b[38;5;241m3\u001b[39m, num_behaviour\u001b[38;5;241m=\u001b[39m\u001b[43mb_\u001b[49m\u001b[38;5;241m.\u001b[39mshape[\u001b[38;5;241m1\u001b[39m])\n\u001b[1;32m      5\u001b[0m train_history, test_history \u001b[38;5;241m=\u001b[39m train_model(\n\u001b[1;32m      6\u001b[0m     x_train,\n\u001b[1;32m      7\u001b[0m     b_train_1,\n\u001b[0;32m   (...)\u001b[0m\n\u001b[1;32m     14\u001b[0m     validation_data\u001b[38;5;241m=\u001b[39m(x_test, b_test_1),\n\u001b[1;32m     15\u001b[0m )\n\u001b[1;32m     16\u001b[0m \u001b[38;5;28mprint\u001b[39m(\u001b[38;5;124mf\u001b[39m\u001b[38;5;124m'\u001b[39m\u001b[38;5;124mval loss: \u001b[39m\u001b[38;5;132;01m{\u001b[39;00mtest_history[\u001b[38;5;241m-\u001b[39m\u001b[38;5;241m1\u001b[39m,\u001b[38;5;241m-\u001b[39m\u001b[38;5;241m1\u001b[39m]\u001b[38;5;132;01m}\u001b[39;00m\u001b[38;5;124m'\u001b[39m)\n",
      "\u001b[0;31mNameError\u001b[0m: name 'b_' is not defined"
     ]
    }
   ],
   "source": [
    "# Deploy BunDLe Net\n",
    "\n",
    "model = BunDLeNet(latent_dim=3, num_behaviour=b_.shape[1])\n",
    "\n",
    "train_history, test_history = train_model(\n",
    "    x_train,\n",
    "    b_train_1,\n",
    "    model,\n",
    "    b_type='continuous',\n",
    "    gamma=0.9,\n",
    "    learning_rate=0.001,\n",
    "    n_epochs=20,\n",
    "    initialisation=(5,20),\n",
    "    validation_data=(x_test, b_test_1),\n",
    ")\n",
    "print(f'val loss: {test_history[-1,-1]}')"
   ]
  },
  {
   "cell_type": "code",
   "execution_count": null,
   "id": "e3551daa",
   "metadata": {},
   "outputs": [],
   "source": [
    "plt.figure()\n",
    "colors =  ['#1f77b4', '#ff7f0e', '#2ca02c']\n",
    "for i, label in enumerate([\n",
    "    r\"$\\mathcal{L}_{\\mathrm{Markov}}$\",\n",
    "    r\"$\\mathcal{L}_{\\mathrm{ehavior}}$\",\n",
    "    r\"Total $\\mathcal{L}$\"\n",
    "]):\n",
    "    plt.plot(train_history[:, i], label=label, c=colors[i])\n",
    "    plt.plot(test_history[:, i], label=label + ' test', c=colors[i], linestyle='--')\n",
    "plt.legend()"
   ]
  },
  {
   "cell_type": "code",
   "execution_count": null,
   "id": "9e1acb64",
   "metadata": {},
   "outputs": [],
   "source": [
    "# Projecting into latent space\n",
    "y0_tr = model.tau(x_train[:, 0]).numpy()\n",
    "y1_tr = model.tau(x_train[:, 1]).numpy()\n",
    "\n",
    "y0_tst = model.tau(x_test[:, 0]).numpy()\n",
    "y1_tst = model.tau(x_test[:, 1]).numpy()\n",
    "\n",
    "y0_ = model.tau(x_[:, 0]).numpy()\n",
    "y1_ = model.tau(x_[:, 1]).numpy()"
   ]
  },
  {
   "cell_type": "code",
   "execution_count": null,
   "id": "acf8c868",
   "metadata": {},
   "outputs": [],
   "source": [
    "%matplotlib notebook\n",
    "# Continuous variable plotting\n",
    "fig = plt.figure(figsize=(4, 4))\n",
    "ax = plt.axes(projection='3d')\n",
    "# ax.axis('off')\n",
    "tr_pts = ax.scatter(y0_tr[:, 0], y0_tr[:, 1], y0_tr[:, 2], c=b_train_1[:, 0], s=0.5)\n",
    "tst_pts = ax.scatter(y0_tst[:, 0], y0_tst[:, 1], y0_tst[:, 2], c=b_test_1[:, 0], s=10)\n",
    "plt.colorbar(tr_pts)\n",
    "plt.show()"
   ]
  },
  {
   "cell_type": "code",
   "execution_count": null,
   "id": "4f366511",
   "metadata": {},
   "outputs": [],
   "source": [
    "# Discrete variable plotting\n",
    "fig = plt.figure(figsize=(4, 4))\n",
    "ax = plt.axes(projection='3d')\n",
    "\n",
    "vis = LatentSpaceVisualiser(\n",
    "    y=y0_tr,\n",
    "    b=b_train_1[:, 1].astype(int),\n",
    "    b_names=['0', '1']\n",
    ")\n",
    "fig, ax = vis._plot_ps(fig, ax, arrow_length_ratio=0.0001)\n",
    "\n",
    "vis = LatentSpaceVisualiser(\n",
    "    y=y0_tst,\n",
    "    b=b_test_1[:, 1].astype(int),\n",
    "    b_names=['0', '1'],\n",
    "    show_points=True\n",
    ")\n",
    "fig, ax = vis._plot_ps(fig, ax, arrow_length_ratio=0.0001)\n",
    "\n",
    "plt.show()"
   ]
  },
  {
   "cell_type": "code",
   "execution_count": null,
   "id": "57875e6e",
   "metadata": {},
   "outputs": [],
   "source": [
    "\n",
    "# Save the weights\n",
    "# model.save_weights(f'data/generated/BunDLeNet_model_rat_{rat_name}')\n",
    "print(f'data/generated/saved_Y/y0_tr__{algorithm}_rat_{rat_name}')\n",
    "np.savetxt(f'data/generated/saved_Y/y0_tr__{algorithm}_rat_{rat_name}', y0_tr)\n",
    "np.savetxt(f'data/generated/saved_Y/y1_tr__{algorithm}_rat_{rat_name}', y1_tr)\n",
    "np.savetxt(f'data/generated/saved_Y/y0_tst__{algorithm}_rat_{rat_name}', y0_tst)\n",
    "np.savetxt(f'data/generated/saved_Y/y1_tst__{algorithm}_rat_{rat_name}', y1_tst)\n",
    "np.savetxt(f'data/generated/saved_Y/b_train_1__{algorithm}_rat_{rat_name}', b_train_1)\n",
    "np.savetxt(f'data/generated/saved_Y/b_test_1__{algorithm}_rat_{rat_name}', b_test_1)\n",
    "\n",
    "plt.show()"
   ]
  },
  {
   "cell_type": "code",
   "execution_count": null,
   "id": "ed85cb23",
   "metadata": {},
   "outputs": [],
   "source": []
  }
 ],
 "metadata": {
  "kernelspec": {
   "display_name": "bundle_env",
   "language": "python",
   "name": "bundle_env"
  },
  "language_info": {
   "codemirror_mode": {
    "name": "ipython",
    "version": 3
   },
   "file_extension": ".py",
   "mimetype": "text/x-python",
   "name": "python",
   "nbconvert_exporter": "python",
   "pygments_lexer": "ipython3",
   "version": "3.10.12"
  }
 },
 "nbformat": 4,
 "nbformat_minor": 5
}
